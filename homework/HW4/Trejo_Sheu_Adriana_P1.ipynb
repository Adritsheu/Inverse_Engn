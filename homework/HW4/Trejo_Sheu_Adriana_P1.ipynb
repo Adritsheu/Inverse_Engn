{
  "cells": [
    {
      "cell_type": "code",
      "execution_count": null,
      "metadata": {
        "ExecuteTime": {
          "end_time": "2020-02-20T22:29:49.670221Z",
          "start_time": "2020-02-20T22:29:49.655213Z"
        },
        "colab": {
          "base_uri": "https://localhost:8080/"
        },
        "id": "cELYAiOJz_c9",
        "outputId": "6be35cbb-891d-4a01-93cf-ae973755c32f"
      },
      "outputs": [
        {
          "output_type": "stream",
          "name": "stdout",
          "text": [
            "Drive already mounted at /content/drive; to attempt to forcibly remount, call drive.mount(\"/content/drive\", force_remount=True).\n"
          ]
        }
      ],
      "source": [
        "import tensorflow as tf\n",
        "from sklearn.model_selection import train_test_split\n",
        "\n",
        "from google.colab import drive\n",
        "drive.mount('/content/drive')\n",
        "\n",
        "import os\n",
        "path = \"/content/drive/MyDrive/semester 2/AM216/HW4\" # Your path here\n",
        "os.chdir(path)\n",
        "\n"
      ]
    },
    {
      "cell_type": "code",
      "execution_count": null,
      "metadata": {
        "ExecuteTime": {
          "end_time": "2020-02-24T16:46:46.494051Z",
          "start_time": "2020-02-24T16:46:45.817790Z"
        },
        "code_folding": [],
        "id": "0JkFszzaz_dA"
      },
      "outputs": [],
      "source": [
        "# This is how the triagle lattice data is generated. You may find it helpful to generate some \n",
        "# of your own data\n",
        "from __future__ import division\n",
        "import numpy as np\n",
        "from numpy.random import rand\n",
        "import matplotlib.pyplot as plt\n",
        "\n",
        "class Ising_tri():\n",
        "    ''' Simulating the Ising model '''  \n",
        "    def __init__(self, size, temp):\n",
        "        self.temp = temp\n",
        "        self.N = int(size)\n",
        "    ## monte carlo moves\n",
        "    def mcmove(self, config, N, beta):\n",
        "        ''' This is to execute the monte carlo moves using \n",
        "        Metropolis algorithm such that detailed\n",
        "        balance condition is satisified'''\n",
        "        for i in range(N):\n",
        "            for j in range(N):            \n",
        "                    a = np.random.randint(0, N) # select a row\n",
        "                    b = np.random.randint(0, N) # select a column\n",
        "                    s =  config[a, b] # current state at (a, b)\n",
        "                    if a%2:\n",
        "                        nb = config[(a+1)%N,b] +config[(a+1)%N,(b+1)%N] + config[a,(b+1)%N] + \\\n",
        "                        config[(a-1)%N,b] + config[(a-1)%N,(b+1)%N] + config[a,(b-1)%N]\n",
        "                    else:\n",
        "                        nb = config[(a+1)%N,b] +config[(a+1)%N,(b-1)%N] + config[a,(b+1)%N] + \\\n",
        "                        config[(a-1)%N,b] + config[(a-1)%N,(b-1)%N] + config[a,(b-1)%N]\n",
        "                    \n",
        "                    \n",
        "                    cost = 2*s*nb\n",
        "                    if cost < 0:\t\n",
        "                        s *= -1\n",
        "                    elif rand() < np.exp(-cost*beta):\n",
        "                        s *= -1\n",
        "                    config[a, b] = s\n",
        "        return config\n",
        "    \n",
        "    def simulate(self):   \n",
        "        ''' This module simulates the Ising model'''\n",
        "        config = 2*np.random.randint(2, size=(self.N,self.N))-1   \n",
        "        msrmnt = 81\n",
        "        for i in range(msrmnt):\n",
        "            self.mcmove(config, self.N, 1.0/self.temp)\n",
        "        return config"
      ]
    },
    {
      "cell_type": "markdown",
      "metadata": {
        "id": "RPQbtzTYz_dC"
      },
      "source": [
        "You can import 4-temp data for square and triangular lattices as follows"
      ]
    },
    {
      "cell_type": "code",
      "execution_count": null,
      "metadata": {
        "ExecuteTime": {
          "end_time": "2020-02-20T22:30:37.313572Z",
          "start_time": "2020-02-20T22:30:34.531268Z"
        },
        "id": "M8QqcCIiz_dD"
      },
      "outputs": [],
      "source": [
        "N = 250\n",
        "nx, ny = 32, 32\n",
        "\n",
        "Xsq = np.ndarray((4*N,nx,ny,1))\n",
        "ysq = np.ndarray(4*N)\n",
        "\n",
        "for i in np.arange(N):\n",
        "    Xsq[i + 0*N] = np.loadtxt(\"./square_T1/{:03d}\".format(i), delimiter=\",\").reshape(nx,ny,1)\n",
        "    ysq[i + 0*N] = 0\n",
        "    Xsq[i + 1*N] = np.loadtxt(\"./square_T2/{:03d}\".format(i), delimiter=\",\").reshape(nx,ny,1)\n",
        "    ysq[i + 1*N] = 1\n",
        "    Xsq[i + 2*N] = np.loadtxt(\"./square_T3/{:03d}\".format(i), delimiter=\",\").reshape(nx,ny,1)\n",
        "    ysq[i + 2*N] = 2\n",
        "    Xsq[i + 3*N] = np.loadtxt(\"./square_T4/{:03d}\".format(i), delimiter=\",\").reshape(nx,ny,1)\n",
        "    ysq[i + 3*N] = 3\n",
        "\n",
        "Xsq_train, Xsq_test, ysq_train, ysq_test = train_test_split(Xsq, ysq, test_size=0.2, random_state=0)"
      ]
    },
    {
      "cell_type": "code",
      "execution_count": null,
      "metadata": {
        "ExecuteTime": {
          "end_time": "2020-02-20T22:31:02.786262Z",
          "start_time": "2020-02-20T22:31:00.698414Z"
        },
        "id": "tF5pZXG7z_dE"
      },
      "outputs": [],
      "source": [
        "N = 250\n",
        "nx, ny = 32, 32\n",
        "\n",
        "Xtri = np.ndarray((4*N,nx,ny,1))\n",
        "ytri = np.ndarray(4*N)\n",
        "\n",
        "for i in np.arange(N):\n",
        "    Xtri[i + 0*N] = np.loadtxt(\"./triangle_T1/{:03d}\".format(i), delimiter=\",\").reshape(nx,ny,1)\n",
        "    ytri[i + 0*N] = 0\n",
        "    Xtri[i + 1*N] = np.loadtxt(\"./triangle_T2/{:03d}\".format(i), delimiter=\",\").reshape(nx,ny,1)\n",
        "    ytri[i + 1*N] = 1\n",
        "    Xtri[i + 2*N] = np.loadtxt(\"./triangle_T3/{:03d}\".format(i), delimiter=\",\").reshape(nx,ny,1)\n",
        "    ytri[i + 2*N] = 2\n",
        "    Xtri[i + 3*N] = np.loadtxt(\"./triangle_T4/{:03d}\".format(i), delimiter=\",\").reshape(nx,ny,1)\n",
        "    ytri[i + 3*N] = 3\n",
        "\n",
        "Xtri_train, Xtri_test, ytri_train, ytri_test = train_test_split(Xtri, ytri, test_size=0.2, random_state=0)"
      ]
    },
    {
      "cell_type": "markdown",
      "metadata": {
        "id": "uGipHcL4z_dG"
      },
      "source": [
        "Make sure you know the shape of data."
      ]
    },
    {
      "cell_type": "code",
      "execution_count": null,
      "metadata": {
        "ExecuteTime": {
          "end_time": "2020-02-20T22:31:05.870456Z",
          "start_time": "2020-02-20T22:31:05.864585Z"
        },
        "colab": {
          "base_uri": "https://localhost:8080/"
        },
        "id": "QNqRtNvNz_dG",
        "outputId": "6e54f909-82c9-416d-f65f-13373cb5ae8a"
      },
      "outputs": [
        {
          "output_type": "stream",
          "name": "stdout",
          "text": [
            "Shape of training data:\n",
            "(800, 32, 32, 1) (800, 32, 32, 1)\n",
            "(800,) (800,)\n",
            "Shape of test data:\n",
            "(200, 32, 32, 1) (200, 32, 32, 1)\n",
            "(200,) (200,)\n"
          ]
        }
      ],
      "source": [
        "print(\"Shape of training data:\")\n",
        "print(Xsq_train.shape, Xtri_train.shape)\n",
        "print(ysq_train.shape, ytri_train.shape)\n",
        "print(\"Shape of test data:\")\n",
        "print(Xsq_test.shape, Xtri_test.shape)\n",
        "print(ysq_test.shape, ytri_test.shape)"
      ]
    },
    {
      "cell_type": "markdown",
      "metadata": {
        "id": "2-5XoD5hz_dJ"
      },
      "source": [
        "### (a) Train a fully connected neural network to do the classification on both datasets. Then, train  a  convolutional  neural  network  to  do  the  classification,  on  both datasets.   Make  a  table  of  your  performance  numbers  for  both  models  and  upload  these  numbers.   This,  together  with  your code,  should be uploaded to the course website when you turn in yourhomework.\n",
        "\n",
        "The temperatures for square lattice are $T = 1.5, 2.1, 2.4, 3.5$. $T = 2.5, 3.2, 3.8, 5$ for triangle lattice.\n"
      ]
    },
    {
      "cell_type": "markdown",
      "metadata": {
        "id": "Jo4nIrCLz_dK"
      },
      "source": [
        "Solution to (a):"
      ]
    },
    {
      "cell_type": "code",
      "execution_count": null,
      "metadata": {
        "colab": {
          "base_uri": "https://localhost:8080/"
        },
        "id": "79SDXaziz_dL",
        "outputId": "08df7dc2-5b9d-4d90-ee4b-6cd53215f580"
      },
      "outputs": [
        {
          "output_type": "stream",
          "name": "stdout",
          "text": [
            "Epoch 1/10\n",
            "25/25 [==============================] - 3s 4ms/step - loss: 1.4191 - sparse_categorical_accuracy: 0.2525\n",
            "Epoch 2/10\n",
            "25/25 [==============================] - 0s 4ms/step - loss: 1.4044 - sparse_categorical_accuracy: 0.2600\n",
            "Epoch 3/10\n",
            "25/25 [==============================] - 0s 4ms/step - loss: 1.3985 - sparse_categorical_accuracy: 0.2788\n",
            "Epoch 4/10\n",
            "25/25 [==============================] - 0s 4ms/step - loss: 1.3985 - sparse_categorical_accuracy: 0.2587\n",
            "Epoch 5/10\n",
            "25/25 [==============================] - 0s 4ms/step - loss: 1.4029 - sparse_categorical_accuracy: 0.2763\n",
            "Epoch 6/10\n",
            "25/25 [==============================] - 0s 4ms/step - loss: 1.3920 - sparse_categorical_accuracy: 0.2763\n",
            "Epoch 7/10\n",
            "25/25 [==============================] - 0s 4ms/step - loss: 1.3851 - sparse_categorical_accuracy: 0.3125\n",
            "Epoch 8/10\n",
            "25/25 [==============================] - 0s 4ms/step - loss: 1.3925 - sparse_categorical_accuracy: 0.2750\n",
            "Epoch 9/10\n",
            "25/25 [==============================] - 0s 4ms/step - loss: 1.3747 - sparse_categorical_accuracy: 0.3137\n",
            "Epoch 10/10\n",
            "25/25 [==============================] - 0s 4ms/step - loss: 1.3715 - sparse_categorical_accuracy: 0.3150\n"
          ]
        }
      ],
      "source": [
        "import keras\n",
        "from keras.models import Sequential\n",
        "from keras.layers import Dense, Dropout, Flatten, BatchNormalization\n",
        "from keras.layers import Conv2D, MaxPooling2D\n",
        "from keras import backend as K\n",
        "\n",
        "# Fully connected NN \n",
        "sq_model = tf.keras.Sequential([\n",
        "  tf.keras.layers.Flatten(input_shape=(32, 32,1)),\n",
        "   BatchNormalization(),\n",
        "   tf.keras.layers.Dense(128, activation=tf.nn.relu),  \n",
        "   tf.keras.layers.Dropout(0.2),   \n",
        "    BatchNormalization(), \n",
        "    tf.keras.layers.Dense(64, activation=tf.nn.relu),  \n",
        "  tf.keras.layers.Dense(4, activation=tf.nn.softmax) # output layer to predict for 4 classes\n",
        "])\n",
        "\n",
        "sq_model.compile(\n",
        "    optimizer=tf.keras.optimizers.Adagrad(0.001),\n",
        "    loss=tf.keras.losses.SparseCategoricalCrossentropy(from_logits=True),\n",
        "    metrics=[tf.keras.metrics.SparseCategoricalAccuracy()],\n",
        ")\n",
        "\n",
        "Xsq_fit = sq_model.fit(Xsq_train, ysq_train, epochs = 10)"
      ]
    },
    {
      "cell_type": "code",
      "execution_count": null,
      "metadata": {
        "colab": {
          "base_uri": "https://localhost:8080/"
        },
        "id": "1YEvUhkQz_dM",
        "outputId": "769aaf1c-d182-4c15-b4e9-df484d6312e3"
      },
      "outputs": [
        {
          "output_type": "stream",
          "name": "stdout",
          "text": [
            "Epoch 1/10\n",
            "25/25 [==============================] - 1s 4ms/step - loss: 1.4149 - sparse_categorical_accuracy: 0.2500\n",
            "Epoch 2/10\n",
            "25/25 [==============================] - 0s 4ms/step - loss: 1.4089 - sparse_categorical_accuracy: 0.2537\n",
            "Epoch 3/10\n",
            "25/25 [==============================] - 0s 4ms/step - loss: 1.4039 - sparse_categorical_accuracy: 0.2750\n",
            "Epoch 4/10\n",
            "25/25 [==============================] - 0s 4ms/step - loss: 1.3943 - sparse_categorical_accuracy: 0.2775\n",
            "Epoch 5/10\n",
            "25/25 [==============================] - 0s 4ms/step - loss: 1.3856 - sparse_categorical_accuracy: 0.3000\n",
            "Epoch 6/10\n",
            "25/25 [==============================] - 0s 4ms/step - loss: 1.3868 - sparse_categorical_accuracy: 0.2950\n",
            "Epoch 7/10\n",
            "25/25 [==============================] - 0s 4ms/step - loss: 1.3843 - sparse_categorical_accuracy: 0.3000\n",
            "Epoch 8/10\n",
            "25/25 [==============================] - 0s 4ms/step - loss: 1.3755 - sparse_categorical_accuracy: 0.3162\n",
            "Epoch 9/10\n",
            "25/25 [==============================] - 0s 4ms/step - loss: 1.3602 - sparse_categorical_accuracy: 0.3487\n",
            "Epoch 10/10\n",
            "25/25 [==============================] - 0s 4ms/step - loss: 1.3640 - sparse_categorical_accuracy: 0.3313\n"
          ]
        }
      ],
      "source": [
        "# Fully connected NN - triangle\n",
        "tri_model = tf.keras.Sequential([\n",
        "  tf.keras.layers.Flatten(input_shape=(32, 32,1)),\n",
        "  BatchNormalization(),\n",
        "  tf.keras.layers.Dense(128, activation=tf.nn.relu),  # first layer with activation function\n",
        "  tf.keras.layers.Dropout(0.2),   \n",
        "    BatchNormalization(), \n",
        "    tf.keras.layers.Dense(64, activation=tf.nn.relu),  # first layer with activation function\n",
        "  tf.keras.layers.Dense(4, activation=tf.nn.softmax) # output layer to predict for 4 classes\n",
        "])\n",
        "\n",
        "tri_model.compile(\n",
        "    optimizer=tf.keras.optimizers.Adagrad(0.001),\n",
        "    loss=tf.keras.losses.SparseCategoricalCrossentropy(from_logits=True),\n",
        "    metrics=[tf.keras.metrics.SparseCategoricalAccuracy()],\n",
        ")\n",
        "Xtri_fit = tri_model.fit(Xtri_train, ytri_train, epochs = 10)"
      ]
    },
    {
      "cell_type": "code",
      "execution_count": null,
      "metadata": {
        "colab": {
          "base_uri": "https://localhost:8080/"
        },
        "id": "KrKGBSjNz_dN",
        "outputId": "34237183-35b7-4ff4-cc4c-bc1204dc3769"
      },
      "outputs": [
        {
          "output_type": "stream",
          "name": "stdout",
          "text": [
            "7/7 [==============================] - 0s 4ms/step - loss: 1.4035 - sparse_categorical_accuracy: 0.2600\n",
            "7/7 [==============================] - 0s 4ms/step - loss: 1.3732 - sparse_categorical_accuracy: 0.3000\n",
            "\n",
            "Square Model loss: 1.4034533500671387 & accuracy 0.25999999046325684\n",
            "Triangle Model loss: 1.3732342720031738 & accuracy 0.30000001192092896\n"
          ]
        }
      ],
      "source": [
        "sq_loss, sq_acc = sq_model.evaluate(Xsq_test, ysq_test)\n",
        "tri_loss, tri_acc = tri_model.evaluate(Xtri_test, ytri_test)\n",
        "print()\n",
        "print(f\"Square Model loss: {sq_loss} & accuracy {sq_acc}\" )\n",
        "print(f\"Triangle Model loss: {tri_loss} & accuracy {tri_acc}\")"
      ]
    },
    {
      "cell_type": "markdown",
      "metadata": {
        "id": "WggieRiRz_dO"
      },
      "source": [
        "### (b) Train a convolutional neural network to do the classification, on both datasets. Make a table of your performance numbers for (a) and (b). \n",
        "Try to optimize the performance of your models and compare the result.\n",
        "\n",
        "solution to (b):"
      ]
    },
    {
      "cell_type": "code",
      "execution_count": null,
      "metadata": {
        "id": "Z_zsg0fvz_dO"
      },
      "outputs": [],
      "source": [
        "cnn_square = tf.keras.models.Sequential([ # CNN layers\n",
        "                                        tf.keras.layers.Conv2D(32, (3, 3), activation=tf.nn.relu, input_shape=(32, 32, 1)),\n",
        "                                        tf.keras.layers.MaxPooling2D((2, 2)),\n",
        "                                        tf.keras.layers.Dropout(0.2),\n",
        "                                        tf.keras.layers.Conv2D(64, (3, 3), activation=tf.nn.relu),\n",
        "                                        tf.keras.layers.MaxPooling2D((2, 2)), \n",
        "                                        tf.keras.layers.Dropout(0.2),\n",
        "                                        tf.keras.layers.Conv2D(64, (3, 3), activation=tf.nn.relu),\n",
        "                                        # output layers to use for classification \n",
        "                                        tf.keras.layers.Flatten(),\n",
        "                                        tf.keras.layers.Dense(64, activation=tf.nn.relu),\n",
        "                                        tf.keras.layers.Dense(4)\n",
        "                                        ])\n",
        "\n"
      ]
    },
    {
      "cell_type": "code",
      "execution_count": null,
      "metadata": {
        "colab": {
          "base_uri": "https://localhost:8080/"
        },
        "id": "TSWhmejKz_dP",
        "outputId": "4e9c8f2e-aa12-48b7-e91d-2c6bffead798"
      },
      "outputs": [
        {
          "output_type": "stream",
          "name": "stdout",
          "text": [
            "Epoch 1/10\n",
            "25/25 [==============================] - 8s 9ms/step - loss: 1.0255 - accuracy: 0.5663\n",
            "Epoch 2/10\n",
            "25/25 [==============================] - 0s 8ms/step - loss: 0.3807 - accuracy: 0.8462\n",
            "Epoch 3/10\n",
            "25/25 [==============================] - 0s 8ms/step - loss: 0.2578 - accuracy: 0.8988\n",
            "Epoch 4/10\n",
            "25/25 [==============================] - 0s 8ms/step - loss: 0.2165 - accuracy: 0.9250\n",
            "Epoch 5/10\n",
            "25/25 [==============================] - 0s 8ms/step - loss: 0.2113 - accuracy: 0.9200\n",
            "Epoch 6/10\n",
            "25/25 [==============================] - 0s 8ms/step - loss: 0.1706 - accuracy: 0.9325\n",
            "Epoch 7/10\n",
            "25/25 [==============================] - 0s 8ms/step - loss: 0.1393 - accuracy: 0.9525\n",
            "Epoch 8/10\n",
            "25/25 [==============================] - 0s 8ms/step - loss: 0.1306 - accuracy: 0.9388\n",
            "Epoch 9/10\n",
            "25/25 [==============================] - 0s 8ms/step - loss: 0.1130 - accuracy: 0.9600\n",
            "Epoch 10/10\n",
            "25/25 [==============================] - 0s 8ms/step - loss: 0.1418 - accuracy: 0.9538\n"
          ]
        }
      ],
      "source": [
        "loss_fn = tf.keras.losses.SparseCategoricalCrossentropy(from_logits=True)\n",
        "cnn_square.compile(optimizer='adam',     # This object specifies the training procedure\n",
        "                  loss=loss_fn,         # The function to minimize during optimization\n",
        "                  metrics=['accuracy'])\n",
        "\n",
        "Xsq_cnn = cnn_square.fit(Xsq_train, ysq_train, epochs=10)"
      ]
    },
    {
      "cell_type": "code",
      "execution_count": null,
      "metadata": {
        "colab": {
          "base_uri": "https://localhost:8080/"
        },
        "id": "2vab0knez_dP",
        "outputId": "f897a16d-f763-4cd4-cf8c-7edd74b2605e"
      },
      "outputs": [
        {
          "output_type": "stream",
          "name": "stdout",
          "text": [
            "7/7 [==============================] - 0s 12ms/step - loss: 0.3308 - accuracy: 0.8750\n"
          ]
        }
      ],
      "source": [
        "cnnsq_loss, cnnsq_acc = cnn_square.evaluate(Xsq_test, ysq_test)"
      ]
    },
    {
      "cell_type": "code",
      "execution_count": null,
      "metadata": {
        "colab": {
          "base_uri": "https://localhost:8080/"
        },
        "id": "MAekyUxFz_dP",
        "outputId": "a87548c8-8283-4575-b3aa-3d9e8f85a195"
      },
      "outputs": [
        {
          "output_type": "stream",
          "name": "stdout",
          "text": [
            "Epoch 1/12\n",
            "25/25 [==============================] - 1s 8ms/step - loss: 1.1576 - accuracy: 0.4563\n",
            "Epoch 2/12\n",
            "25/25 [==============================] - 0s 8ms/step - loss: 0.5221 - accuracy: 0.7550\n",
            "Epoch 3/12\n",
            "25/25 [==============================] - 0s 8ms/step - loss: 0.3309 - accuracy: 0.8662\n",
            "Epoch 4/12\n",
            "25/25 [==============================] - 0s 8ms/step - loss: 0.2963 - accuracy: 0.8775\n",
            "Epoch 5/12\n",
            "25/25 [==============================] - 0s 8ms/step - loss: 0.3881 - accuracy: 0.8163\n",
            "Epoch 6/12\n",
            "25/25 [==============================] - 0s 8ms/step - loss: 0.2201 - accuracy: 0.9212\n",
            "Epoch 7/12\n",
            "25/25 [==============================] - 0s 8ms/step - loss: 0.1903 - accuracy: 0.9200\n",
            "Epoch 8/12\n",
            "25/25 [==============================] - 0s 8ms/step - loss: 0.1393 - accuracy: 0.9613\n",
            "Epoch 9/12\n",
            "25/25 [==============================] - 0s 8ms/step - loss: 0.1567 - accuracy: 0.9375\n",
            "Epoch 10/12\n",
            "25/25 [==============================] - 0s 8ms/step - loss: 0.1394 - accuracy: 0.9575\n",
            "Epoch 11/12\n",
            "25/25 [==============================] - 0s 8ms/step - loss: 0.1300 - accuracy: 0.9563\n",
            "Epoch 12/12\n",
            "25/25 [==============================] - 0s 8ms/step - loss: 0.1389 - accuracy: 0.9413\n"
          ]
        },
        {
          "output_type": "execute_result",
          "data": {
            "text/plain": [
              "<keras.callbacks.History at 0x7feac0176ed0>"
            ]
          },
          "metadata": {},
          "execution_count": 14
        }
      ],
      "source": [
        "cnn_triangle = tf.keras.models.Sequential([ # CNN layers\n",
        "                                        tf.keras.layers.Conv2D(32, (3, 3), activation=tf.nn.relu, input_shape=(32, 32, 1)),\n",
        "                                        tf.keras.layers.MaxPooling2D((2, 2)),\n",
        "                                        tf.keras.layers.Dropout(0.2),\n",
        "                                        tf.keras.layers.Conv2D(64, (3, 3), activation=tf.nn.relu),\n",
        "                                        tf.keras.layers.MaxPooling2D((2, 2)), \n",
        "                                        tf.keras.layers.Dropout(0.2),\n",
        "                                        tf.keras.layers.Conv2D(64, (3, 3), activation=tf.nn.relu),\n",
        "                                        # output layers to use for classification \n",
        "                                        tf.keras.layers.Flatten(),\n",
        "                                        tf.keras.layers.Dense(64, activation=tf.nn.relu),\n",
        "                                        tf.keras.layers.Dense(4)\n",
        "                                        ])\n",
        "\n",
        "\n",
        "loss_fn = tf.keras.losses.SparseCategoricalCrossentropy(from_logits=True)\n",
        "cnn_triangle.compile(optimizer='adam',     # This object specifies the training procedure\n",
        "                  loss=loss_fn,         # The function to minimize during optimization\n",
        "                  metrics=['accuracy'])\n",
        "\n",
        "\n",
        "cnn_triangle.fit(Xtri_train, ytri_train, epochs = 12)"
      ]
    },
    {
      "cell_type": "code",
      "execution_count": null,
      "metadata": {
        "colab": {
          "base_uri": "https://localhost:8080/"
        },
        "id": "nVzfWoeRz_dR",
        "outputId": "be59bd30-2fd3-4619-ed43-acd6f2506ec0"
      },
      "outputs": [
        {
          "output_type": "stream",
          "name": "stdout",
          "text": [
            "7/7 [==============================] - 0s 5ms/step - loss: 0.1617 - accuracy: 0.9300\n"
          ]
        }
      ],
      "source": [
        "cnntri_loss, cnntri_acc = cnn_triangle.evaluate(Xtri_test, ytri_test)"
      ]
    },
    {
      "cell_type": "code",
      "execution_count": null,
      "metadata": {
        "colab": {
          "base_uri": "https://localhost:8080/",
          "height": 130
        },
        "id": "jCSbOfXqz_dR",
        "outputId": "d32f66b2-5bb1-431b-8b64-45b70010c5fa"
      },
      "outputs": [
        {
          "output_type": "stream",
          "name": "stdout",
          "text": [
            "Table of the Accuracy Scores\n"
          ]
        },
        {
          "output_type": "execute_result",
          "data": {
            "text/html": [
              "\n",
              "  <div id=\"df-3a66da57-c4ae-4e50-9c51-b973af2362e9\">\n",
              "    <div class=\"colab-df-container\">\n",
              "      <div>\n",
              "<style scoped>\n",
              "    .dataframe tbody tr th:only-of-type {\n",
              "        vertical-align: middle;\n",
              "    }\n",
              "\n",
              "    .dataframe tbody tr th {\n",
              "        vertical-align: top;\n",
              "    }\n",
              "\n",
              "    .dataframe thead th {\n",
              "        text-align: right;\n",
              "    }\n",
              "</style>\n",
              "<table border=\"1\" class=\"dataframe\">\n",
              "  <thead>\n",
              "    <tr style=\"text-align: right;\">\n",
              "      <th></th>\n",
              "      <th>square</th>\n",
              "      <th>triangle</th>\n",
              "    </tr>\n",
              "  </thead>\n",
              "  <tbody>\n",
              "    <tr>\n",
              "      <th>Connected Neural Network</th>\n",
              "      <td>0.30</td>\n",
              "      <td>0.260</td>\n",
              "    </tr>\n",
              "    <tr>\n",
              "      <th>Convolutional Neural Network</th>\n",
              "      <td>0.93</td>\n",
              "      <td>0.875</td>\n",
              "    </tr>\n",
              "  </tbody>\n",
              "</table>\n",
              "</div>\n",
              "      <button class=\"colab-df-convert\" onclick=\"convertToInteractive('df-3a66da57-c4ae-4e50-9c51-b973af2362e9')\"\n",
              "              title=\"Convert this dataframe to an interactive table.\"\n",
              "              style=\"display:none;\">\n",
              "        \n",
              "  <svg xmlns=\"http://www.w3.org/2000/svg\" height=\"24px\"viewBox=\"0 0 24 24\"\n",
              "       width=\"24px\">\n",
              "    <path d=\"M0 0h24v24H0V0z\" fill=\"none\"/>\n",
              "    <path d=\"M18.56 5.44l.94 2.06.94-2.06 2.06-.94-2.06-.94-.94-2.06-.94 2.06-2.06.94zm-11 1L8.5 8.5l.94-2.06 2.06-.94-2.06-.94L8.5 2.5l-.94 2.06-2.06.94zm10 10l.94 2.06.94-2.06 2.06-.94-2.06-.94-.94-2.06-.94 2.06-2.06.94z\"/><path d=\"M17.41 7.96l-1.37-1.37c-.4-.4-.92-.59-1.43-.59-.52 0-1.04.2-1.43.59L10.3 9.45l-7.72 7.72c-.78.78-.78 2.05 0 2.83L4 21.41c.39.39.9.59 1.41.59.51 0 1.02-.2 1.41-.59l7.78-7.78 2.81-2.81c.8-.78.8-2.07 0-2.86zM5.41 20L4 18.59l7.72-7.72 1.47 1.35L5.41 20z\"/>\n",
              "  </svg>\n",
              "      </button>\n",
              "      \n",
              "  <style>\n",
              "    .colab-df-container {\n",
              "      display:flex;\n",
              "      flex-wrap:wrap;\n",
              "      gap: 12px;\n",
              "    }\n",
              "\n",
              "    .colab-df-convert {\n",
              "      background-color: #E8F0FE;\n",
              "      border: none;\n",
              "      border-radius: 50%;\n",
              "      cursor: pointer;\n",
              "      display: none;\n",
              "      fill: #1967D2;\n",
              "      height: 32px;\n",
              "      padding: 0 0 0 0;\n",
              "      width: 32px;\n",
              "    }\n",
              "\n",
              "    .colab-df-convert:hover {\n",
              "      background-color: #E2EBFA;\n",
              "      box-shadow: 0px 1px 2px rgba(60, 64, 67, 0.3), 0px 1px 3px 1px rgba(60, 64, 67, 0.15);\n",
              "      fill: #174EA6;\n",
              "    }\n",
              "\n",
              "    [theme=dark] .colab-df-convert {\n",
              "      background-color: #3B4455;\n",
              "      fill: #D2E3FC;\n",
              "    }\n",
              "\n",
              "    [theme=dark] .colab-df-convert:hover {\n",
              "      background-color: #434B5C;\n",
              "      box-shadow: 0px 1px 3px 1px rgba(0, 0, 0, 0.15);\n",
              "      filter: drop-shadow(0px 1px 2px rgba(0, 0, 0, 0.3));\n",
              "      fill: #FFFFFF;\n",
              "    }\n",
              "  </style>\n",
              "\n",
              "      <script>\n",
              "        const buttonEl =\n",
              "          document.querySelector('#df-3a66da57-c4ae-4e50-9c51-b973af2362e9 button.colab-df-convert');\n",
              "        buttonEl.style.display =\n",
              "          google.colab.kernel.accessAllowed ? 'block' : 'none';\n",
              "\n",
              "        async function convertToInteractive(key) {\n",
              "          const element = document.querySelector('#df-3a66da57-c4ae-4e50-9c51-b973af2362e9');\n",
              "          const dataTable =\n",
              "            await google.colab.kernel.invokeFunction('convertToInteractive',\n",
              "                                                     [key], {});\n",
              "          if (!dataTable) return;\n",
              "\n",
              "          const docLinkHtml = 'Like what you see? Visit the ' +\n",
              "            '<a target=\"_blank\" href=https://colab.research.google.com/notebooks/data_table.ipynb>data table notebook</a>'\n",
              "            + ' to learn more about interactive tables.';\n",
              "          element.innerHTML = '';\n",
              "          dataTable['output_type'] = 'display_data';\n",
              "          await google.colab.output.renderOutput(dataTable, element);\n",
              "          const docLink = document.createElement('div');\n",
              "          docLink.innerHTML = docLinkHtml;\n",
              "          element.appendChild(docLink);\n",
              "        }\n",
              "      </script>\n",
              "    </div>\n",
              "  </div>\n",
              "  "
            ],
            "text/plain": [
              "                              square  triangle\n",
              "Connected Neural Network        0.30     0.260\n",
              "Convolutional Neural Network    0.93     0.875"
            ]
          },
          "metadata": {},
          "execution_count": 16
        }
      ],
      "source": [
        "import pandas as pd\n",
        "# square / triangle\n",
        "scores = {\"Connected Neural Network\":[tri_acc,sq_acc] , \"Convolutional Neural Network\":[cnntri_acc,cnnsq_acc]}\n",
        "df = pd.DataFrame.from_dict(scores, orient = 'index',columns = {\"triangle\", \"square\"})\n",
        "print(\"Table of the Accuracy Scores\")\n",
        "df"
      ]
    },
    {
      "cell_type": "markdown",
      "metadata": {
        "id": "bAdcRV3jz_dS"
      },
      "source": [
        "### (c) We have provided a test set of 10 spins configurations for each of the two problems. Each of the spin configurations is not necessarily at the temperatures of the training sets. Calculate your best estimate of the temperatures of these spin configuration. Upload your results to Kaggle.\n",
        "[Hint: A direct fingerprint of temperature is the distribution of spin up\n",
        "and down, because you can image that the spins fluctuate more violently\n",
        "at higher temperature. Although the mothod you use in homework 2 can also work, you may be interested in trying to take distribution into account when you\n",
        "build the model to estimate temperature and see if you can make use of this extra information. This may help you win the\n",
        "kaggle. It is totally fine if you find that the information of distribution is not helpful. Note also that a CNN kind-of does this. One possibility is that you may want a CNN that captures enough distribution information.]"
      ]
    },
    {
      "cell_type": "markdown",
      "metadata": {
        "id": "nTjSYF8az_dS"
      },
      "source": [
        "Solution to (c)"
      ]
    },
    {
      "cell_type": "code",
      "execution_count": null,
      "metadata": {
        "colab": {
          "base_uri": "https://localhost:8080/"
        },
        "id": "Ryqkp0d_z_dY",
        "outputId": "1176ecdd-3ccb-48a6-a833-93e02f341a35"
      },
      "outputs": [
        {
          "output_type": "execute_result",
          "data": {
            "text/plain": [
              "(100, 32, 32, 1)"
            ]
          },
          "metadata": {},
          "execution_count": 17
        }
      ],
      "source": [
        "# download from websites\n",
        "N = 100\n",
        "nx, ny = 32, 32\n",
        "\n",
        "Xsq = np.ndarray((N,nx,ny,1))\n",
        "ysq = np.ndarray(N)\n",
        "\n",
        "val = 0\n",
        "for i in np.arange(10):\n",
        "    for j in np.arange(10):\n",
        "        Xsq[val] = np.loadtxt(f\"square_10T/T0{i}#0{j}\".format(i), delimiter=\",\").reshape(nx,ny,1)\n",
        "        ysq[val] = 0\n",
        "        val += 1\n",
        "    \n",
        "Xsq.shape"
      ]
    },
    {
      "cell_type": "code",
      "execution_count": null,
      "metadata": {
        "colab": {
          "base_uri": "https://localhost:8080/"
        },
        "id": "Tt9CRGhwz_da",
        "outputId": "5e2598b8-6e1c-4927-83c6-d94971188728"
      },
      "outputs": [
        {
          "output_type": "execute_result",
          "data": {
            "text/plain": [
              "(100, 4)"
            ]
          },
          "metadata": {},
          "execution_count": 18
        }
      ],
      "source": [
        "Xsq_pred = cnn_square.predict(Xsq)\n",
        "Xsq_pred.shape"
      ]
    },
    {
      "cell_type": "code",
      "execution_count": null,
      "metadata": {
        "colab": {
          "base_uri": "https://localhost:8080/"
        },
        "id": "ioE5Pfxvz_db",
        "outputId": "2ae9b05f-68b7-4085-e3c2-ca54db82bf12"
      },
      "outputs": [
        {
          "output_type": "execute_result",
          "data": {
            "text/plain": [
              "array([[3.],\n",
              "       [3.],\n",
              "       [1.],\n",
              "       [0.],\n",
              "       [0.],\n",
              "       [3.],\n",
              "       [3.],\n",
              "       [1.],\n",
              "       [3.],\n",
              "       [0.]])"
            ]
          },
          "metadata": {},
          "execution_count": 19
        }
      ],
      "source": [
        "predictions = np.zeros((100,1))\n",
        "for i in range(100):\n",
        "    predictions[i] = np.argmax(Xsq_pred[i])\n",
        "    \n",
        "total_guess = np.zeros((10,1))\n",
        "start = 0\n",
        "end = 10\n",
        "for i in range(10):\n",
        "    total_guess[i] = round(np.sum(predictions[start:end])/10,0)\n",
        "    start = end\n",
        "    end = start + 10\n",
        "    \n",
        "total_guess"
      ]
    },
    {
      "cell_type": "code",
      "execution_count": null,
      "metadata": {
        "colab": {
          "base_uri": "https://localhost:8080/"
        },
        "id": "UHmmDuxnz_db",
        "outputId": "9d45fe15-f527-4bd6-f5a1-1237d0e47c38"
      },
      "outputs": [
        {
          "output_type": "stream",
          "name": "stdout",
          "text": [
            "Guesses for Square\n",
            "[3.5, 3.5, 2.1, 1.5, 1.5, 3.5, 3.5, 2.1, 3.5, 1.5]\n"
          ]
        }
      ],
      "source": [
        "conversion = [1.5,2.1,2.4,3.5]\n",
        "temps = []\n",
        "\n",
        "for i in total_guess:\n",
        "    temps.append(conversion[int(i)])\n",
        "print(\"Guesses for Square\")   \n",
        "print(temps)"
      ]
    },
    {
      "cell_type": "code",
      "execution_count": null,
      "metadata": {
        "colab": {
          "base_uri": "https://localhost:8080/"
        },
        "id": "Wq0H9xHgz_dc",
        "outputId": "d81ae905-1703-43a1-c604-c43d3f0263ac"
      },
      "outputs": [
        {
          "output_type": "execute_result",
          "data": {
            "text/plain": [
              "(100, 32, 32, 1)"
            ]
          },
          "metadata": {},
          "execution_count": 21
        }
      ],
      "source": [
        "N = 100\n",
        "nx, ny = 32, 32\n",
        "\n",
        "Xtri = np.ndarray((N,nx,ny,1))\n",
        "ytri = np.ndarray(N)\n",
        "\n",
        "val = 0\n",
        "for i in np.arange(10):\n",
        "    for j in np.arange(10):\n",
        "        Xtri[val] = np.loadtxt(f\"triangle_10T/T0{i}#0{j}\".format(i), delimiter=\",\").reshape(nx,ny,1)\n",
        "        ytri[val] = 0\n",
        "        val += 1\n",
        "    \n",
        "Xtri.shape"
      ]
    },
    {
      "cell_type": "code",
      "execution_count": null,
      "metadata": {
        "colab": {
          "base_uri": "https://localhost:8080/"
        },
        "id": "rbg04Z49z_dc",
        "outputId": "b75941c8-cf13-41b9-84e7-cc2223454602"
      },
      "outputs": [
        {
          "output_type": "execute_result",
          "data": {
            "text/plain": [
              "(100, 4)"
            ]
          },
          "metadata": {},
          "execution_count": 22
        }
      ],
      "source": [
        "Xtri_pred = cnn_triangle.predict(Xtri)\n",
        "Xtri_pred.shape"
      ]
    },
    {
      "cell_type": "code",
      "execution_count": null,
      "metadata": {
        "colab": {
          "base_uri": "https://localhost:8080/"
        },
        "id": "B_KLo44zz_dc",
        "outputId": "c51f379f-183a-4b76-8392-3ab25a284738"
      },
      "outputs": [
        {
          "output_type": "execute_result",
          "data": {
            "text/plain": [
              "array([[3.],\n",
              "       [3.],\n",
              "       [1.],\n",
              "       [0.],\n",
              "       [0.],\n",
              "       [3.],\n",
              "       [3.],\n",
              "       [1.],\n",
              "       [3.],\n",
              "       [0.]])"
            ]
          },
          "metadata": {},
          "execution_count": 23
        }
      ],
      "source": [
        "pred = np.zeros((100,1))\n",
        "for i in range(100):\n",
        "    pred[i] = np.argmax(Xsq_pred[i])\n",
        "    \n",
        "guess_tri = np.zeros((10,1))\n",
        "start = 0\n",
        "end = 10\n",
        "for i in range(10):\n",
        "    guess_tri[i] = round(np.sum(pred[start:end])/10,0)\n",
        "    start = end\n",
        "    end = start + 10\n",
        "    \n",
        "guess_tri"
      ]
    },
    {
      "cell_type": "code",
      "execution_count": null,
      "metadata": {
        "colab": {
          "base_uri": "https://localhost:8080/"
        },
        "id": "I_Yf0FaIz_dd",
        "outputId": "a093549a-e27f-43e5-d3d8-0e7b4e39baa4"
      },
      "outputs": [
        {
          "output_type": "stream",
          "name": "stdout",
          "text": [
            "Guesses for Triangle Lattice\n",
            "[5, 5, 3.2, 2.5, 2.5, 5, 5, 3.2, 5, 2.5]\n"
          ]
        }
      ],
      "source": [
        "tri_conv = [2.5,3.2,3.8,5 ]\n",
        "temps = []\n",
        "\n",
        "for i in guess_tri:\n",
        "    temps.append(tri_conv[int(i)])\n",
        "print(\"Guesses for Triangle Lattice\")   \n",
        "print(temps)"
      ]
    },
    {
      "cell_type": "markdown",
      "metadata": {
        "id": "vfOQ8tFzz_dd"
      },
      "source": [
        "### (d) *Transfer Learning*.  \n",
        "As we emphasize in class, one can freeze the training of the bottom layers of a network and retrain the top part of the network to adopt to a new situation. Use your CNN that you trained on the squarelattice data to do transfer learning on the triangular lattice data.  How does the performance compare to that of the direct methods?  Add the performance numbers for transfer learning in your table from Part (a). Note that the training time and number of training examples needed for transfer learning is far less than that for the direct  optimization. For  example,  is  50  triangle  example  sufficient  for the re-training process?  Use your transfer learning result to predict the transition temperature of triangle lattice Ising model, as demonstrated in this [Nature Physics](https://www-nature-com.ezp-prod1.hul.harvard.edu/articles/nphys4035.pdf) publication.\n",
        "\n",
        "As a guideline, you may like to just change the last `Dense` layer with `softmax` activation when you do the transfer learning. Other choices are also OK."
      ]
    },
    {
      "cell_type": "markdown",
      "metadata": {
        "ExecuteTime": {
          "end_time": "2020-02-24T16:51:16.394160Z",
          "start_time": "2020-02-24T16:51:16.390887Z"
        },
        "id": "ubMstPUoz_dd"
      },
      "source": [
        "Solution to (d):"
      ]
    },
    {
      "cell_type": "code",
      "execution_count": null,
      "metadata": {
        "colab": {
          "base_uri": "https://localhost:8080/"
        },
        "id": "d_PE_upBz_dd",
        "outputId": "7c55ff05-f199-4e0d-dc23-b27dcbd4d974"
      },
      "outputs": [
        {
          "output_type": "stream",
          "name": "stdout",
          "text": [
            "Model: \"sequential_2\"\n",
            "_________________________________________________________________\n",
            " Layer (type)                Output Shape              Param #   \n",
            "=================================================================\n",
            " conv2d (Conv2D)             (None, 30, 30, 32)        320       \n",
            "                                                                 \n",
            " max_pooling2d (MaxPooling2D  (None, 15, 15, 32)       0         \n",
            " )                                                               \n",
            "                                                                 \n",
            " dropout_2 (Dropout)         (None, 15, 15, 32)        0         \n",
            "                                                                 \n",
            " conv2d_1 (Conv2D)           (None, 13, 13, 64)        18496     \n",
            "                                                                 \n",
            " max_pooling2d_1 (MaxPooling  (None, 6, 6, 64)         0         \n",
            " 2D)                                                             \n",
            "                                                                 \n",
            " dropout_3 (Dropout)         (None, 6, 6, 64)          0         \n",
            "                                                                 \n",
            " conv2d_2 (Conv2D)           (None, 4, 4, 64)          36928     \n",
            "                                                                 \n",
            " flatten_2 (Flatten)         (None, 1024)              0         \n",
            "                                                                 \n",
            " dense_6 (Dense)             (None, 64)                65600     \n",
            "                                                                 \n",
            " dense_7 (Dense)             (None, 4)                 260       \n",
            "                                                                 \n",
            "=================================================================\n",
            "Total params: 121,604\n",
            "Trainable params: 0\n",
            "Non-trainable params: 121,604\n",
            "_________________________________________________________________\n"
          ]
        }
      ],
      "source": [
        "cnn_square.trainable = False\n",
        "cnn_square.summary()"
      ]
    },
    {
      "cell_type": "code",
      "execution_count": null,
      "metadata": {
        "id": "pJ3OSc2qz_de"
      },
      "outputs": [],
      "source": [
        "# put it all together into a model.\n",
        "prediction_layer = tf.keras.layers.Dense(4)\n",
        "\n",
        "inputs = tf.keras.Input(shape=(32, 32, 1))\n",
        "x = cnn_square(inputs, training=False)\n",
        "x = tf.keras.layers.Dropout(0.2)(x)\n",
        "outputs = prediction_layer(x)\n",
        "model = tf.keras.Model(inputs, outputs)"
      ]
    },
    {
      "cell_type": "code",
      "execution_count": null,
      "metadata": {
        "id": "k9-xMwSXz_de"
      },
      "outputs": [],
      "source": [
        "model.compile(optimizer=tf.keras.optimizers.Adam(learning_rate=0.001),\n",
        "              loss=tf.keras.losses.SparseCategoricalCrossentropy(from_logits=True),\n",
        "              metrics=['accuracy'])"
      ]
    },
    {
      "cell_type": "code",
      "execution_count": null,
      "metadata": {
        "colab": {
          "base_uri": "https://localhost:8080/"
        },
        "id": "vmrRssTkz_de",
        "outputId": "9720eab6-6729-40a9-c581-e19c25da9b04"
      },
      "outputs": [
        {
          "output_type": "stream",
          "name": "stdout",
          "text": [
            "Epoch 1/30\n",
            "25/25 [==============================] - 1s 4ms/step - loss: 5.8038 - accuracy: 0.3812\n",
            "Epoch 2/30\n",
            "25/25 [==============================] - 0s 4ms/step - loss: 5.3303 - accuracy: 0.4050\n",
            "Epoch 3/30\n",
            "25/25 [==============================] - 0s 4ms/step - loss: 4.4234 - accuracy: 0.4300\n",
            "Epoch 4/30\n",
            "25/25 [==============================] - 0s 4ms/step - loss: 4.0383 - accuracy: 0.4387\n",
            "Epoch 5/30\n",
            "25/25 [==============================] - 0s 4ms/step - loss: 3.5649 - accuracy: 0.4588\n",
            "Epoch 6/30\n",
            "25/25 [==============================] - 0s 4ms/step - loss: 2.9799 - accuracy: 0.4500\n",
            "Epoch 7/30\n",
            "25/25 [==============================] - 0s 4ms/step - loss: 2.5310 - accuracy: 0.4850\n",
            "Epoch 8/30\n",
            "25/25 [==============================] - 0s 4ms/step - loss: 2.6754 - accuracy: 0.4700\n",
            "Epoch 9/30\n",
            "25/25 [==============================] - 0s 4ms/step - loss: 2.3204 - accuracy: 0.5063\n",
            "Epoch 10/30\n",
            "25/25 [==============================] - 0s 4ms/step - loss: 2.0547 - accuracy: 0.5213\n",
            "Epoch 11/30\n",
            "25/25 [==============================] - 0s 4ms/step - loss: 1.9621 - accuracy: 0.5013\n",
            "Epoch 12/30\n",
            "25/25 [==============================] - 0s 4ms/step - loss: 1.8849 - accuracy: 0.5088\n",
            "Epoch 13/30\n",
            "25/25 [==============================] - 0s 4ms/step - loss: 1.6762 - accuracy: 0.5437\n",
            "Epoch 14/30\n",
            "25/25 [==============================] - 0s 4ms/step - loss: 1.5377 - accuracy: 0.5362\n",
            "Epoch 15/30\n",
            "25/25 [==============================] - 0s 4ms/step - loss: 1.4909 - accuracy: 0.5437\n",
            "Epoch 16/30\n",
            "25/25 [==============================] - 0s 4ms/step - loss: 1.2924 - accuracy: 0.5900\n",
            "Epoch 17/30\n",
            "25/25 [==============================] - 0s 4ms/step - loss: 1.3779 - accuracy: 0.6012\n",
            "Epoch 18/30\n",
            "25/25 [==============================] - 0s 4ms/step - loss: 1.1861 - accuracy: 0.6162\n",
            "Epoch 19/30\n",
            "25/25 [==============================] - 0s 4ms/step - loss: 1.2102 - accuracy: 0.6200\n",
            "Epoch 20/30\n",
            "25/25 [==============================] - 0s 4ms/step - loss: 1.0709 - accuracy: 0.6612\n",
            "Epoch 21/30\n",
            "25/25 [==============================] - 0s 4ms/step - loss: 1.0461 - accuracy: 0.6612\n",
            "Epoch 22/30\n",
            "25/25 [==============================] - 0s 4ms/step - loss: 0.9786 - accuracy: 0.6862\n",
            "Epoch 23/30\n",
            "25/25 [==============================] - 0s 4ms/step - loss: 0.9497 - accuracy: 0.6775\n",
            "Epoch 24/30\n",
            "25/25 [==============================] - 0s 4ms/step - loss: 0.9633 - accuracy: 0.6712\n",
            "Epoch 25/30\n",
            "25/25 [==============================] - 0s 4ms/step - loss: 0.7975 - accuracy: 0.7038\n",
            "Epoch 26/30\n",
            "25/25 [==============================] - 0s 4ms/step - loss: 0.7765 - accuracy: 0.6900\n",
            "Epoch 27/30\n",
            "25/25 [==============================] - 0s 4ms/step - loss: 0.7446 - accuracy: 0.7088\n",
            "Epoch 28/30\n",
            "25/25 [==============================] - 0s 4ms/step - loss: 0.8530 - accuracy: 0.6737\n",
            "Epoch 29/30\n",
            "25/25 [==============================] - 0s 4ms/step - loss: 0.7361 - accuracy: 0.6988\n",
            "Epoch 30/30\n",
            "25/25 [==============================] - 0s 4ms/step - loss: 0.6736 - accuracy: 0.7262\n"
          ]
        },
        {
          "output_type": "execute_result",
          "data": {
            "text/plain": [
              "<keras.callbacks.History at 0x7fea4d912150>"
            ]
          },
          "metadata": {},
          "execution_count": 28
        }
      ],
      "source": [
        "model.fit(Xtri_train, ytri_train,epochs=30)"
      ]
    },
    {
      "cell_type": "code",
      "execution_count": null,
      "metadata": {
        "colab": {
          "base_uri": "https://localhost:8080/"
        },
        "id": "n-K2LSdzz_de",
        "outputId": "4905337a-fdd0-4257-bf91-68e146b2c3bf"
      },
      "outputs": [
        {
          "output_type": "stream",
          "name": "stdout",
          "text": [
            "7/7 [==============================] - 0s 4ms/step - loss: 0.3161 - accuracy: 0.8800\n"
          ]
        },
        {
          "output_type": "execute_result",
          "data": {
            "text/plain": [
              "[0.31609952449798584, 0.8799999952316284]"
            ]
          },
          "metadata": {},
          "execution_count": 29
        }
      ],
      "source": [
        "model.evaluate(Xtri_test, ytri_test)"
      ]
    },
    {
      "cell_type": "code",
      "execution_count": null,
      "metadata": {
        "colab": {
          "base_uri": "https://localhost:8080/"
        },
        "id": "r9Hp_I4_z_df",
        "outputId": "75ddaa19-eb7a-4bc2-a7ee-2d4d883d61c8"
      },
      "outputs": [
        {
          "output_type": "execute_result",
          "data": {
            "text/plain": [
              "(32, 32)"
            ]
          },
          "metadata": {},
          "execution_count": 30
        }
      ],
      "source": [
        "# predict transition temperatire\n",
        "# temperature for T = 2:5; 3:2; 3:8; 5\n",
        "og_temp = [2.5,2.3,3.8,5]\n",
        "shape = Xtri_test[0].shape[0]\n",
        "ising = Ising_tri(shape,5).simulate()\n",
        "ising.shape"
      ]
    },
    {
      "cell_type": "code",
      "source": [
        "# Temperatures I want to test to see how the model predicts\n",
        "test_temps = np.linspace(2.5,5,10)\n",
        "test_temps"
      ],
      "metadata": {
        "colab": {
          "base_uri": "https://localhost:8080/"
        },
        "id": "-82WEnV86qsr",
        "outputId": "842dde5e-8dc4-464d-9efe-e75f88c7ac12"
      },
      "execution_count": null,
      "outputs": [
        {
          "output_type": "execute_result",
          "data": {
            "text/plain": [
              "array([2.5       , 2.77777778, 3.05555556, 3.33333333, 3.61111111,\n",
              "       3.88888889, 4.16666667, 4.44444444, 4.72222222, 5.        ])"
            ]
          },
          "metadata": {},
          "execution_count": 31
        }
      ]
    },
    {
      "cell_type": "code",
      "source": [
        "new_test = np.zeros((100,32,32))\n",
        "\n",
        "for i, temp in enumerate(test_temps):\n",
        "  for j in range(10):\n",
        "    ising = Ising_tri(shape,temp).simulate()\n",
        "    new_test[i+j] = ising"
      ],
      "metadata": {
        "id": "16z8gm9w7P44"
      },
      "execution_count": null,
      "outputs": []
    },
    {
      "cell_type": "code",
      "source": [
        "new_labels = np.zeros((100,))\n",
        "j = 0\n",
        "start = 0\n",
        "end = 10\n",
        "for i in range(10):\n",
        "  new_labels[start:end] = test_temps[j]\n",
        "  start = end\n",
        "  end = start + 10\n",
        "  j +=1"
      ],
      "metadata": {
        "id": "IJfyx68V94t4"
      },
      "execution_count": null,
      "outputs": []
    },
    {
      "cell_type": "code",
      "source": [
        "t0_data = new_test[:10]\n",
        "t1_data = new_test[10:20]\n",
        "t2_data = new_test[20:30]\n",
        "t3_data = new_test[30:40]\n",
        "t4_data = new_test[40:50]\n",
        "t5_data = new_test[50:60]\n",
        "t6_data = new_test[60:70]\n",
        "t7_data = new_test[70:80]\n",
        "t8_data = new_test[80:90]\n",
        "t9_data = new_test[90:100]"
      ],
      "metadata": {
        "id": "rkjjZ5vL97D8"
      },
      "execution_count": null,
      "outputs": []
    },
    {
      "cell_type": "code",
      "source": [
        "from operator import truediv\n",
        "cnn_square.trainable = True\n",
        "cnn_square.summary()"
      ],
      "metadata": {
        "colab": {
          "base_uri": "https://localhost:8080/"
        },
        "id": "bMWU3eSrCESd",
        "outputId": "ef105a79-e073-481d-c29c-72e7a8c6daa4"
      },
      "execution_count": null,
      "outputs": [
        {
          "output_type": "stream",
          "name": "stdout",
          "text": [
            "Model: \"sequential_2\"\n",
            "_________________________________________________________________\n",
            " Layer (type)                Output Shape              Param #   \n",
            "=================================================================\n",
            " conv2d (Conv2D)             (None, 30, 30, 32)        320       \n",
            "                                                                 \n",
            " max_pooling2d (MaxPooling2D  (None, 15, 15, 32)       0         \n",
            " )                                                               \n",
            "                                                                 \n",
            " dropout_2 (Dropout)         (None, 15, 15, 32)        0         \n",
            "                                                                 \n",
            " conv2d_1 (Conv2D)           (None, 13, 13, 64)        18496     \n",
            "                                                                 \n",
            " max_pooling2d_1 (MaxPooling  (None, 6, 6, 64)         0         \n",
            " 2D)                                                             \n",
            "                                                                 \n",
            " dropout_3 (Dropout)         (None, 6, 6, 64)          0         \n",
            "                                                                 \n",
            " conv2d_2 (Conv2D)           (None, 4, 4, 64)          36928     \n",
            "                                                                 \n",
            " flatten_2 (Flatten)         (None, 1024)              0         \n",
            "                                                                 \n",
            " dense_6 (Dense)             (None, 64)                65600     \n",
            "                                                                 \n",
            " dense_7 (Dense)             (None, 4)                 260       \n",
            "                                                                 \n",
            "=================================================================\n",
            "Total params: 121,604\n",
            "Trainable params: 121,604\n",
            "Non-trainable params: 0\n",
            "_________________________________________________________________\n"
          ]
        }
      ]
    },
    {
      "cell_type": "code",
      "source": [
        "prediction_layer = tf.keras.layers.Dense(2)\n",
        "\n",
        "inputs = tf.keras.Input(shape=(32, 32, 1))\n",
        "x = cnn_square(inputs, training=True)\n",
        "x = tf.keras.layers.Dropout(0.2)(x)\n",
        "outputs = prediction_layer(x)\n",
        "model = tf.keras.Model(inputs, outputs)\n",
        "model.summary()"
      ],
      "metadata": {
        "colab": {
          "base_uri": "https://localhost:8080/"
        },
        "id": "BE4kwXQjDBJV",
        "outputId": "92981b15-d2d2-4483-ef0f-15e87617f832"
      },
      "execution_count": null,
      "outputs": [
        {
          "output_type": "stream",
          "name": "stdout",
          "text": [
            "Model: \"model_1\"\n",
            "_________________________________________________________________\n",
            " Layer (type)                Output Shape              Param #   \n",
            "=================================================================\n",
            " input_2 (InputLayer)        [(None, 32, 32, 1)]       0         \n",
            "                                                                 \n",
            " sequential_2 (Sequential)   (None, 4)                 121604    \n",
            "                                                                 \n",
            " dropout_7 (Dropout)         (None, 4)                 0         \n",
            "                                                                 \n",
            " dense_11 (Dense)            (None, 2)                 10        \n",
            "                                                                 \n",
            "=================================================================\n",
            "Total params: 121,614\n",
            "Trainable params: 121,614\n",
            "Non-trainable params: 0\n",
            "_________________________________________________________________\n"
          ]
        }
      ]
    },
    {
      "cell_type": "code",
      "source": [
        "model.compile(optimizer=tf.keras.optimizers.Adam(learning_rate=0.001),\n",
        "              loss=tf.keras.losses.SparseCategoricalCrossentropy(from_logits=True),\n",
        "              metrics=['accuracy'])"
      ],
      "metadata": {
        "id": "Z48bBwsICtl5"
      },
      "execution_count": null,
      "outputs": []
    },
    {
      "cell_type": "code",
      "source": [
        "# Try to classify two at a time\n",
        "# t0 and t1 [t0_data, t1_data] new_labels[:20]\n",
        "\n",
        "t01 = np.vstack((t0_data, t1_data))\n",
        "model.fit(t0_data, new_labels[:10], epochs = 10)"
      ],
      "metadata": {
        "colab": {
          "base_uri": "https://localhost:8080/"
        },
        "id": "ajqDDxPTCvBI",
        "outputId": "dcfda439-82cf-4dd5-890b-3f917280e73f"
      },
      "execution_count": null,
      "outputs": [
        {
          "output_type": "execute_result",
          "data": {
            "text/plain": [
              "array([[nan, nan],\n",
              "       [nan, nan],\n",
              "       [nan, nan],\n",
              "       [nan, nan],\n",
              "       [nan, nan],\n",
              "       [nan, nan],\n",
              "       [nan, nan],\n",
              "       [nan, nan],\n",
              "       [nan, nan],\n",
              "       [nan, nan]], dtype=float32)"
            ]
          },
          "metadata": {},
          "execution_count": 52
        }
      ]
    }
  ],
  "metadata": {
    "kernelspec": {
      "display_name": "Python 3",
      "language": "python",
      "name": "python3"
    },
    "language_info": {
      "codemirror_mode": {
        "name": "ipython",
        "version": 3
      },
      "file_extension": ".py",
      "mimetype": "text/x-python",
      "name": "python",
      "nbconvert_exporter": "python",
      "pygments_lexer": "ipython3",
      "version": "3.8.8"
    },
    "toc": {
      "base_numbering": 1,
      "nav_menu": {},
      "number_sections": true,
      "sideBar": true,
      "skip_h1_title": false,
      "title_cell": "Table of Contents",
      "title_sidebar": "Contents",
      "toc_cell": false,
      "toc_position": {},
      "toc_section_display": true,
      "toc_window_display": false
    },
    "colab": {
      "name": "Trejo-Sheu_Adriana_P1.ipynb",
      "provenance": [],
      "collapsed_sections": []
    },
    "accelerator": "GPU"
  },
  "nbformat": 4,
  "nbformat_minor": 0
}